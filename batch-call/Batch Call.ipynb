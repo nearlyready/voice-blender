{
 "cells": [
  {
   "cell_type": "markdown",
   "id": "1e2409aa",
   "metadata": {},
   "source": [
    "# Batch Call\n",
    "\n",
    "## About Regex\n",
    "\n",
    "This tool uses regex, or \"regular expressions\". Regex is a powerful way of searching for text and defining new text strings based on found text. It is widely used, extensively documented, and well understood by AI.\n",
    "\n",
    "## Setup\n",
    "\n",
    "To use this tool, include this notebook and the script `batch_call.py` in the same directory as your Jupyter notebook, and import all necessary functions using\n",
    "```py\n",
    "from batch_call import *\n",
    "```\n",
    "\n",
    "\n",
    "### File Structure Used in Examples\n",
    "To try out the examples in this notebook, create the following directory structure (the `.txt` files can be empty):\n",
    "```md\n",
    "├── tests\n",
    "│   ├── cli_test.xlsx\n",
    "│   ├── cli_test.csv\n",
    "|   ├── test.xlsx\n",
    "│   └── test.csv\n",
    "├── (this notebook)\n",
    "└── batch_call.py\n",
    "```\n",
    "\n",
    "\n",
    "\n",
    "\n"
   ]
  },
  {
   "cell_type": "markdown",
   "id": "9e210e79",
   "metadata": {},
   "source": [
    "### Batch Calling Python Functions (General Case)\n",
    "\n",
    "This includes:\n",
    "- Functions that are defined in Python libraries and Jupyter Notebooks.\n",
    "- Functions appearing in RVC CLI, e.g. `batch_inference.run_pipeline`\n",
    "\n",
    "In the examples below, we define our own simple function `example_function`, that adds up three numbers `a`, `b` and `c`."
   ]
  },
  {
   "cell_type": "code",
   "execution_count": null,
   "id": "17f3e9d4",
   "metadata": {},
   "outputs": [
    {
     "name": "stdout",
     "output_type": "stream",
     "text": [
      "Calling example_function with arguments: {'a': 1, 'b': 2, 'c': 3}\n",
      "Calling example_function with arguments: {'a': 4, 'b': 5, 'c': 6}\n",
      "Calling example_function with arguments: {'a': 7, 'b': 8, 'c': 9}\n",
      "Batch call results: [6, 15, 24]\n"
     ]
    }
   ],
   "source": [
    "# Import all functions from batch_call\n",
    "from batch_call import *\n",
    "\n",
    "# Define a function\n",
    "def example_function(a, b, c):\n",
    "    return a + b + c"
   ]
  },
  {
   "cell_type": "markdown",
   "id": "60b4adf4",
   "metadata": {},
   "source": [
    "#### Using a List of Dicts\n",
    "\n",
    "Arguments:\n",
    "```md\n",
    "    f (callable):     The function to call repeatedly. \n",
    "                      This function should accept keyword arguments that match the keys in arg_dicts.\n",
    "    \n",
    "    arg_dicts (list): A list of dictionaries, where each dictionary contains parameter names as keys\n",
    "                      and their values to be passed to the function for each separate call.\n",
    "                      Example: [{\"a\": 1, \"b\": 2}, {\"a\": 3, \"b\": 4}]\n",
    "```"
   ]
  },
  {
   "cell_type": "code",
   "execution_count": null,
   "id": "cdd924a5",
   "metadata": {},
   "outputs": [],
   "source": [
    "# Define the argument dictionaries for each item in the batch\n",
    "arg_dicts = [\n",
    "    {\"a\": 1, \"b\": 2, \"c\": 3},\n",
    "    {\"a\": 4, \"b\": 5, \"c\": 6},\n",
    "    {\"a\": 7, \"b\": 8, \"c\": 9},\n",
    "]\n",
    "\n",
    "results = batch_call(example_function, arg_dicts)\n",
    "print(\"Batch call results:\", results)"
   ]
  },
  {
   "cell_type": "markdown",
   "id": "b7aa4f2b",
   "metadata": {},
   "source": [
    "#### Using an XLSX File\n",
    "\n",
    "Arguments:\n",
    "```md\n",
    "    f (callable):    The function to call repeatedly.\n",
    "                     This function should accept keyword arguments that \n",
    "                     match the column headers in the Excel file.\n",
    "    \n",
    "    xlsx_path (str): The file path to the Excel (.xlsx) file containing parameter data.\n",
    "                     The file should have parameter names in the first row as headers,\n",
    "                     with each subsequent row representing a set of parameters.\n",
    "```"
   ]
  },
  {
   "cell_type": "code",
   "execution_count": null,
   "id": "0313e58b",
   "metadata": {},
   "outputs": [
    {
     "name": "stdout",
     "output_type": "stream",
     "text": [
      "Calling example_function with arguments: {'a': 10, 'b': 20, 'c': 30}\n",
      "Calling example_function with arguments: {'a': 40, 'b': 50, 'c': 60}\n",
      "Calling example_function with arguments: {'a': 70, 'b': 80, 'c': 90}\n",
      "Batch call results from XLSX: [60, 150, 240]\n"
     ]
    }
   ],
   "source": [
    "# Provide the arguments in an XLSX file.\n",
    "xlsx_path = \"tests/test.xlsx\"\n",
    "xlsx_results = batch_call_from_xlsx(example_function, xlsx_path)\n",
    "print(\"Batch call results from XLSX:\", xlsx_results)"
   ]
  },
  {
   "cell_type": "markdown",
   "id": "f8a01ee0",
   "metadata": {},
   "source": [
    "#### Using a UTF-8 Encoded CSV File\n",
    "\n",
    "Arguments:\n",
    "```md\n",
    "    f (callable):   The function to call repeatedly.\n",
    "                    This function should accept keyword arguments that \n",
    "                    match the column headers in the CSV file.\n",
    "    \n",
    "    csv_path (str): The file path to the CSV file containing parameter data.\n",
    "                    The file should have parameter names in the first row as headers,\n",
    "                    with each subsequent row representing a set of parameters.\n",
    "```"
   ]
  },
  {
   "cell_type": "code",
   "execution_count": null,
   "id": "2aa288b2",
   "metadata": {},
   "outputs": [
    {
     "name": "stdout",
     "output_type": "stream",
     "text": [
      "Calling example_function with arguments: {'a': '10', 'b': '20', 'c': '30'}\n",
      "Calling example_function with arguments: {'a': '40', 'b': '50', 'c': '60'}\n",
      "Calling example_function with arguments: {'a': '70', 'b': '80', 'c': '90'}\n",
      "Batch call results from CSV: ['102030', '405060', '708090']\n"
     ]
    }
   ],
   "source": [
    "# Provide the arguments in a CSV file (Must be UTF-8 encoded!)\n",
    "csv_path = \"tests/test.csv\"\n",
    "csv_results = batch_call_from_csv(example_function, csv_path)\n",
    "print(\"Batch call results from CSV:\", csv_results)"
   ]
  },
  {
   "cell_type": "markdown",
   "id": "a34ac0d1",
   "metadata": {},
   "source": [
    "### Using the Tool With RVC CLI\n",
    "\n",
    "The same principles apply as in the general use case.\n",
    "\n",
    "The directory structure should have `rvc-cli` as the parent to the relevant files:\n",
    "\n",
    "```md\n",
    "rvc-cli\n",
    "├── (various folders)\n",
    "├── (Jupyter Notebook)\n",
    "└── batch_call.py\n",
    "```\n",
    "\n",
    "The following examples how `batch_call_from_xlsx` is used within RVC."
   ]
  },
  {
   "cell_type": "code",
   "execution_count": null,
   "id": "c1e509e3",
   "metadata": {},
   "outputs": [],
   "source": [
    "from batch_call import *\n",
    "import batch_inference\n",
    "xlsx_path = \"inference_jobs.xlsx\"\n",
    "xlsx_results = batch_call_from_xlsx(batch_inference.run_pipeline, xlsx_path)"
   ]
  },
  {
   "cell_type": "code",
   "execution_count": null,
   "id": "21098e4c",
   "metadata": {},
   "outputs": [],
   "source": [
    "from batch_call import *\n",
    "import blending\n",
    "xlsx_path = \"blending_jobs.xlsx\"\n",
    "xlsx_results = batch_call_from_xlsx(blending.run_pipeline, xlsx_path)"
   ]
  },
  {
   "cell_type": "markdown",
   "id": "8d17675e",
   "metadata": {},
   "source": [
    "## Batch Calling CLI Commands\n",
    "\n",
    "___This is an experimental feature that has not been thoroughly tested.___\n",
    "\n",
    "This includes:\n",
    "- Commands that are called from the command line.\n",
    "- Linux system commands.\n",
    "\n",
    "\n",
    "Arguments:\n",
    "```md\n",
    "    base_cmd (list): Base command to run as a list of strings.\n",
    "                     Examples: \n",
    "                        [\"python\", \"tools/infer_cli.py\"]\n",
    "                        [\"echo\"]\n",
    "    xlsx_path (str): The file path to the Excel (.xlsx) file containing parameter data.\n",
    "                     The file should have parameter names in the first row as headers,\n",
    "                     with each subsequent row representing a set of parameters.\n",
    "```\n",
    "\n",
    "__IMPORTANT__: \n",
    "- When this tool is used from Jupyter Notebooks, any output that would normally appear in the console will _not_ appear in the notebook.\n",
    "\n",
    "\n",
    "In the __examples__ below, we will use simple Linux commands."
   ]
  },
  {
   "cell_type": "code",
   "execution_count": null,
   "id": "c25954e1",
   "metadata": {},
   "outputs": [
    {
     "name": "stdout",
     "output_type": "stream",
     "text": [
      "Running command: echo --message Hello World\n",
      "Running command: echo --message RunPod CLI test\n"
     ]
    }
   ],
   "source": [
    "from batch_call import *\n",
    "\n",
    "# Batch call the Linux echo command that corresponds to\n",
    "# > echo --message \"Hello World\"\n",
    "# > echo --message \"RunPod CLI test\"\n",
    "base_cmd = [\"echo\"]\n",
    "arg_dicts = [\n",
    "    {\"message\": \"Hello World\"},\n",
    "    {\"message\": \"RunPod CLI test\"},\n",
    "]\n",
    "\n",
    "batch_cli_call(base_cmd, arg_dicts)"
   ]
  },
  {
   "cell_type": "code",
   "execution_count": 5,
   "id": "1d347a71",
   "metadata": {},
   "outputs": [
    {
     "name": "stdout",
     "output_type": "stream",
     "text": [
      "Running command: echo --message Hello from Excel!\n",
      "Running command: echo --message Testing echo using Excel input!\n"
     ]
    }
   ],
   "source": [
    "cli_xlsx_path = \"tests/cli_test.xlsx\"\n",
    "batch_cli_call_from_xlsx(base_cmd, cli_xlsx_path)"
   ]
  },
  {
   "cell_type": "code",
   "execution_count": null,
   "id": "d25ce6bf",
   "metadata": {},
   "outputs": [
    {
     "name": "stdout",
     "output_type": "stream",
     "text": [
      "Running command: echo --message Hello from Excel!\n",
      "Running command: echo --message Testing echo using Excel input!\n",
      "Batch call results from CSV: None\n"
     ]
    }
   ],
   "source": [
    "csv_path = \"tests/cli_test.csv\"\n",
    "csv_results = batch_cli_call_from_csv(base_cmd, csv_path)"
   ]
  }
 ],
 "metadata": {
  "kernelspec": {
   "display_name": "py39",
   "language": "python",
   "name": "python3"
  },
  "language_info": {
   "codemirror_mode": {
    "name": "ipython",
    "version": 3
   },
   "file_extension": ".py",
   "mimetype": "text/x-python",
   "name": "python",
   "nbconvert_exporter": "python",
   "pygments_lexer": "ipython3",
   "version": "3.9.20"
  }
 },
 "nbformat": 4,
 "nbformat_minor": 5
}
