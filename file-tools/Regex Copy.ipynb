{
 "cells": [
  {
   "cell_type": "markdown",
   "id": "59063715",
   "metadata": {},
   "source": [
    "# Regex Copy\n",
    "\n",
    "## About Regex\n",
    "\n",
    "This tool uses regex, or \"regular expressions\". Regex is a powerful way of searching for text and defining new text strings based on found text. It is widely used, extensively documented, and well understood by AI.\n",
    "\n",
    "## Using the Tool\n",
    "\n",
    "To use this tool, include the script `file_tools.py` in the same directory as your Jupyter notebook, and import it using `import file_tools`.\n",
    "\n",
    "To try out the examples in this notebook, create the following directory structure (the `.txt` files can be empty):\n",
    "```md\n",
    "├── tests\n",
    "│   ├── Arabic\n",
    "│   │   ├── Leila_F_e10.txt\n",
    "│   │   └── Leila_F_e20_best.txt\n",
    "│   └── English\n",
    "│       ├── Jane_F_e10_best.txt\n",
    "│       ├── Tom_M_e5_best.txt\n",
    "│       └── Tom_M_e5.txt\n",
    "├── (this notebook)\n",
    "└── file_tools.py\n",
    "```\n",
    "\n",
    "The `regex_copy` function has the following arguments:\n",
    "- __source_pattern (str):__ regex to match source file paths.\n",
    "- __target_pattern (str):__ target path pattern, can use \\1, \\2, ... from source_pattern.\n",
    "- __dry_run (bool):__ if True, only print the actions that would be taken without actually copying files. Useful for preventing mistakes.\n",
    "- __root (str or Path):__ directory to start searching from, e.g. root=relative/path/to/root/folder. To save time, set the root to the folder that you are searching within.\n",
    "- __verbose (bool):__ if True, print detailed debug information. Useful if you don't understand why files are not copying.\n",
    "\n",
    "\n",
    "__WARNING:__\n",
    "- This script is POWERFUL. It will create new folders or overwrite existing files without warning. Use with care!\n"
   ]
  },
  {
   "cell_type": "code",
   "execution_count": 1,
   "id": "23f3b555",
   "metadata": {},
   "outputs": [],
   "source": [
    "# Always run this cell.\n",
    "import file_tools"
   ]
  },
  {
   "cell_type": "code",
   "execution_count": 2,
   "id": "cdd9476f",
   "metadata": {},
   "outputs": [
    {
     "name": "stdout",
     "output_type": "stream",
     "text": [
      "--------------------\n",
      "WARNING: This is a dry run. No files will be copied. To copy files, set dry_run=False\n",
      "--------------------\n",
      "  - Would copy tests\\English\\Jane_F_e10_best.txt → tests\\output\\en\\Jane_F_e10_best.txt\n",
      "  - Would copy tests\\English\\Tom_M_e5.txt → tests\\output\\en\\Tom_M_e5.txt\n",
      "  - Would copy tests\\English\\Tom_M_e5_best.txt → tests\\output\\en\\Tom_M_e5_best.txt\n"
     ]
    }
   ],
   "source": [
    "# Dry run: Copy all English files to the folder output/en,\n",
    "file_tools.regex_copy(r\"tests/English/(.*)\", r\"tests/output/en/\\1\", root=\"tests\", dry_run=True)"
   ]
  },
  {
   "cell_type": "code",
   "execution_count": null,
   "id": "8e88d1ed",
   "metadata": {},
   "outputs": [
    {
     "name": "stdout",
     "output_type": "stream",
     "text": [
      "--------------------\n",
      "WARNING: This is a dry run. No files will be copied. To copy files, set dry_run=False\n",
      "--------------------\n",
      "  - Would copy tests\\regex_copy\\English\\Jane_F_e10_best.txt → tests\\regex_copy\\output\\en\\Jane_F_e10_best.txt\n",
      "  - Would copy tests\\regex_copy\\English\\Tom_M_e5.txt → tests\\regex_copy\\output\\en\\Tom_M_e5.txt\n",
      "  - Would copy tests\\regex_copy\\English\\Tom_M_e5_best.txt → tests\\regex_copy\\output\\en\\Tom_M_e5_best.txt\n"
     ]
    }
   ],
   "source": [
    "# Copy all English files to the folder output/en,\n",
    "file_tools.regex_copy(r\"tests/English/(.*)\", r\"tests/output/en/\\1\", root=\"tests\", dry_run=False)"
   ]
  },
  {
   "cell_type": "code",
   "execution_count": null,
   "id": "922dbc1b",
   "metadata": {},
   "outputs": [
    {
     "name": "stdout",
     "output_type": "stream",
     "text": [
      "--------------------\n",
      "WARNING: This is a dry run. No files will be copied. To copy files, set dry_run=False\n",
      "--------------------\n",
      "  - Would copy tests\\regex_copy\\Arabic\\Leila_F_e20_best.txt → tests\\regex_copy\\output\\best\\Leila_F_e20.txt\n",
      "  - Would copy tests\\regex_copy\\English\\Jane_F_e10_best.txt → tests\\regex_copy\\output\\best\\Jane_F_e10.txt\n",
      "  - Would copy tests\\regex_copy\\English\\Tom_M_e5_best.txt → tests\\regex_copy\\output\\best\\Tom_M_e5.txt\n",
      "  - Would copy tests\\regex_copy\\output\\en\\Jane_F_e10_best.txt → tests\\regex_copy\\output\\best\\Jane_F_e10.txt\n",
      "  - Would copy tests\\regex_copy\\output\\en\\Tom_M_e5_best.txt → tests\\regex_copy\\output\\best\\Tom_M_e5.txt\n"
     ]
    }
   ],
   "source": [
    "# Copy all \"_best\" files to the folder output/best, and remove the _best suffix.\n",
    "file_tools.regex_copy(r\"tests/.*/(.*)_best\\.txt\", r\"tests/output/best/\\1.txt\", root=\"tests\", dry_run=False)"
   ]
  },
  {
   "cell_type": "code",
   "execution_count": null,
   "id": "025e35bb",
   "metadata": {},
   "outputs": [],
   "source": []
  }
 ],
 "metadata": {
  "kernelspec": {
   "display_name": "py39",
   "language": "python",
   "name": "python3"
  },
  "language_info": {
   "codemirror_mode": {
    "name": "ipython",
    "version": 3
   },
   "file_extension": ".py",
   "mimetype": "text/x-python",
   "name": "python",
   "nbconvert_exporter": "python",
   "pygments_lexer": "ipython3",
   "version": "3.9.20"
  }
 },
 "nbformat": 4,
 "nbformat_minor": 5
}
